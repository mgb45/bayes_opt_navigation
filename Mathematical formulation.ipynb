{
 "cells": [
  {
   "cell_type": "markdown",
   "metadata": {},
   "source": [
    "Given a robot following kinematics:\n",
    "$$\\dot{x} = v\\cos(\\theta)$$\n",
    "$$\\dot{y} = v\\sin(\\theta)$$\n",
    "$$\\dot{\\theta} = \\omega$$\n",
    "operating in an unknown field modelled by a Gaussian process $\\mu(x,y),\\sigma(x,y) \\sim GP(x,y)$, find the control $\\mathbf{u}^* = [v,\\omega]^T$ that minimises the cost\n",
    "\n",
    "$$J = \\int \\frac{1}{2}v^2 + \\frac{1}{2}\\omega^2 + \\alpha\\mu(x,y) + \\beta\\sigma(x,y) + \\text{obstacle}(x,y) \\text{d}t$$\n",
    "\n",
    "Form the Hamiltonian\n",
    "$$H = \\frac{1}{2}v^2 + \\frac{1}{2}\\omega^2 + \\alpha\\mu(x,y) + \\beta\\mu(x,y) + \\text{obstacle}(x,y) + \\lambda_1 v \\cos(\\theta) + \\lambda_2 v\\sin \\theta + \\lambda_3 \\omega$$\n",
    "\n",
    "The optimal control minimises the Hamiltonian, with necessary conditions below\n",
    "\n",
    "$$\\frac{\\partial H}{\\partial \\lambda_1} = v\\cos(\\theta) $$\n",
    "$$\\frac{\\partial H}{\\partial \\lambda_2} = v\\sin(\\theta) $$\n",
    "$$\\frac{\\partial H}{\\partial \\lambda_3} = \\omega $$\n",
    "\n",
    "$$\\frac{\\partial H}{\\partial x} = -\\frac{\\partial}{\\partial} \\alpha \\mu(x,y) -\\frac{\\partial}{\\partial} \\beta \\sigma(x,y)$$\n",
    "$$\\frac{\\partial H}{\\partial y} = -\\frac{\\partial}{\\partial} \\alpha \\mu(x,y) -\\frac{\\partial}{\\partial} \\beta \\sigma(x,y)$$\n",
    "$$\\frac{\\partial H}{\\partial \\theta} = \\lambda_1 v \\sin(\\theta) - \\lambda_2 v \\cos(\\theta) $$\n",
    "\n",
    "$$\\frac{\\partial H}{\\partial v} = 0 = v + \\lambda_1 \\cos(\\theta) + \\lambda_2 \\sin(\\theta)$$ $$ \\therefore v = -\\lambda_1 \\cos(\\theta) - \\lambda_2 \\sin(\\theta)$$\n",
    "\n",
    "$$\\frac{\\partial H}{\\partial \\omega} = 0 = w + \\lambda_3$$ \n",
    "$$ \\therefore w = -\\lambda_3$$\n",
    "\n",
    "Solving this system of differential equations subject to appropriate boundary conditions gives us a sub-optimal (or maybe if we're lucky, optimal) set of controls.\n",
    "\n",
    "Boundary conditions could be\n",
    "\n",
    "$$ \\mathbf{x}(0) =  \\mathbf{x}_0$$\n",
    "$$ \\mathbf{x}(0) =  \\mathbf{x}_f$$\n",
    "\n",
    "if we know where we start and finish, or\n",
    "\n",
    "$$ \\mathbf{x}(0) =  \\mathbf{x}_0$$\n",
    "$$\\frac{\\partial}{\\partial \\mathbf{x}} (\\mathbf{x}(t_f)) = \\mathbf{\\lambda}(t_f)$$\n",
    "\n",
    "if we leave the final state free. We could also leave the final time free too, and solve for that.\n"
   ]
  }
 ],
 "metadata": {
  "kernelspec": {
   "display_name": "Python 3",
   "language": "python",
   "name": "python3"
  },
  "language_info": {
   "codemirror_mode": {
    "name": "ipython",
    "version": 3
   },
   "file_extension": ".py",
   "mimetype": "text/x-python",
   "name": "python",
   "nbconvert_exporter": "python",
   "pygments_lexer": "ipython3",
   "version": "3.6.6"
  }
 },
 "nbformat": 4,
 "nbformat_minor": 2
}
